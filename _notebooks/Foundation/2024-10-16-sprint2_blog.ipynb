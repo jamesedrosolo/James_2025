{
 "cells": [
  {
   "cell_type": "raw",
   "metadata": {
    "vscode": {
     "languageId": "raw"
    }
   },
   "source": [
    "---\n",
    "layout: post\n",
    "title: Sprint 2 Blog - CSP Objectives \n",
    "description:  \n",
    "type: issues \n",
    "comments: true\n",
    "---"
   ]
  },
  {
   "cell_type": "markdown",
   "metadata": {},
   "source": [
    "## Blog Homepage\n",
    "# Previous Accomplishments\n"
   ]
  },
  {
   "cell_type": "markdown",
   "metadata": {},
   "source": [
    "<a href=\"https://noahh-10.github.io/Noah_2025/2024/09/21/Calculator.html\" target=\"_blank\">\n",
    "    <button style=\"font-size: 16px; padding: 10px 20px; border-radius: 5px; background-color: #007BFF; color: white; border: none; cursor: pointer; display: inline-block; margin-right: 10px;\">"
   ]
  }
 ],
 "metadata": {
  "language_info": {
   "name": "python"
  }
 },
 "nbformat": 4,
 "nbformat_minor": 2
}
